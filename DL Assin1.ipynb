{
 "cells": [
  {
   "cell_type": "code",
   "execution_count": 10,
   "id": "167234eb",
   "metadata": {},
   "outputs": [],
   "source": [
    "import numpy as np"
   ]
  },
  {
   "cell_type": "code",
   "execution_count": 11,
   "id": "583ed291",
   "metadata": {},
   "outputs": [],
   "source": [
    "class MCP_Neuron:\n",
    "    def __init__(self, w , threshold):\n",
    "        self.w = np.array(w)\n",
    "        self.threshold = threshold\n",
    "\n",
    "    def activation(self, x):\n",
    "        return 1 \n",
    "        if np.dot(self.w, x) >= self.threshold :\n",
    "            np.dot(self.w, x) >= self.threshold\n",
    "        else :\n",
    "            0"
   ]
  },
  {
   "cell_type": "code",
   "execution_count": 12,
   "id": "010144ee",
   "metadata": {},
   "outputs": [],
   "source": [
    "def AND_function(inputs):\n",
    "    w = [1] * len(inputs)\n",
    "    threshold = len(inputs)\n",
    "    neuron = MCP_Neuron(w, threshold)\n",
    "    return neuron.activation(inputs)"
   ]
  },
  {
   "cell_type": "code",
   "execution_count": 13,
   "id": "d049c41a",
   "metadata": {},
   "outputs": [],
   "source": [
    "def OR_function(inputs):\n",
    "    w= [1] * len(inputs)\n",
    "    threshold = 1\n",
    "    neuron = MCP_Neuron(w, threshold)\n",
    "    return neuron.activation(inputs)"
   ]
  },
  {
   "cell_type": "code",
   "execution_count": 14,
   "id": "e4cba589",
   "metadata": {},
   "outputs": [],
   "source": [
    "def NOR_function(inputs):\n",
    "    w = [-1] * len(inputs)\n",
    "    threshold = 0\n",
    "    neuron = MCP_Neuron(w, threshold)\n",
    "    return neuron.activation(inputs)"
   ]
  },
  {
   "cell_type": "code",
   "execution_count": 15,
   "id": "1c27b569",
   "metadata": {},
   "outputs": [
    {
     "name": "stdout",
     "output_type": "stream",
     "text": [
      "AND: 1\n"
     ]
    }
   ],
   "source": [
    "inputs = [1, 1]\n",
    "print(\"AND:\", AND_function(inputs))"
   ]
  },
  {
   "cell_type": "code",
   "execution_count": 16,
   "id": "4604f1b8",
   "metadata": {},
   "outputs": [
    {
     "name": "stdout",
     "output_type": "stream",
     "text": [
      "OR: 1\n"
     ]
    }
   ],
   "source": [
    "inputs = [0,1]\n",
    "print(\"OR:\", OR_function(inputs))"
   ]
  },
  {
   "cell_type": "code",
   "execution_count": 17,
   "id": "9ed9c219",
   "metadata": {},
   "outputs": [
    {
     "name": "stdout",
     "output_type": "stream",
     "text": [
      "NOR: 1\n"
     ]
    }
   ],
   "source": [
    "inputs = [0,0]\n",
    "print(\"NOR:\", NOR_function(inputs))"
   ]
  },
  {
   "cell_type": "code",
   "execution_count": null,
   "id": "44197075",
   "metadata": {},
   "outputs": [],
   "source": []
  },
  {
   "cell_type": "code",
   "execution_count": null,
   "id": "0d1044ad",
   "metadata": {},
   "outputs": [],
   "source": []
  },
  {
   "cell_type": "code",
   "execution_count": null,
   "id": "02801715",
   "metadata": {},
   "outputs": [],
   "source": []
  }
 ],
 "metadata": {
  "kernelspec": {
   "display_name": "Python 3 (ipykernel)",
   "language": "python",
   "name": "python3"
  },
  "language_info": {
   "codemirror_mode": {
    "name": "ipython",
    "version": 3
   },
   "file_extension": ".py",
   "mimetype": "text/x-python",
   "name": "python",
   "nbconvert_exporter": "python",
   "pygments_lexer": "ipython3",
   "version": "3.11.3"
  }
 },
 "nbformat": 4,
 "nbformat_minor": 5
}
